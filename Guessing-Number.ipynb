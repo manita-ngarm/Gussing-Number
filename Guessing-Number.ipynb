{
 "cells": [
  {
   "cell_type": "markdown",
   "metadata": {},
   "source": [
    "# Guessing Number\n",
    "\n",
    "Pick a random integer from 1 to 100, and has players guess the number. \n",
    "\n",
    "The rules are:\n",
    "1. If a player's guess is less than 1 or greater than 100, say \"OUT OF BOUNDS\"\n",
    "2. On a player's first turn, if their guess is\n",
    " * within 10 of the number, return \"WARM!\"\n",
    " * further than 10 away from the number, return \"COLD!\"\n",
    "3. On all subsequent turns, if a guess is \n",
    " * closer to the number than the previous guess return \"WARMER!\"\n",
    " * farther from the number than the previous guess, return \"COLDER!\"\n",
    "4. When the player's guess equals the number, tell them they've guessed correctly *and* how many guesses it took!\n"
   ]
  },
  {
   "cell_type": "markdown",
   "metadata": {},
   "source": [
    "#### First, pick a random integer from 1 to 100 using the random module and assign it to a variable\n"
   ]
  },
  {
   "cell_type": "code",
   "execution_count": 107,
   "metadata": {},
   "outputs": [],
   "source": [
    "import random\n",
    "r = random.randint(1,100)"
   ]
  },
  {
   "cell_type": "markdown",
   "metadata": {},
   "source": [
    "#### Next, print an introduction to the game and explain the rules"
   ]
  },
  {
   "cell_type": "code",
   "execution_count": 108,
   "metadata": {},
   "outputs": [
    {
     "name": "stdout",
     "output_type": "stream",
     "text": [
      "Welcome to Guessing Game!\n",
      "I'm guessing a number from 1 to 100\n",
      "- if your guess number is less than 1 or greater than 100, it will show \"OUT OF BOUNDS\"\n",
      "- For first turn, if your guess number is within 10 of my number, it will show \"WARM!\"\n",
      "- For first turn, if your guess number is further than 10 away from my number, it will show \"COLD!\"\n",
      "- if your guess number is closer to the number than the previous guess, it will show \"WARMER!\"\n",
      "- if your guess number is farther from the number than the previous guess, it will show \"COLDER!\"\n",
      "When your guess number is equals to my number, it will show \"Guessed correctly\" and How many guesses it took!\n",
      "\n"
     ]
    }
   ],
   "source": [
    "print(\"\"\"Welcome to Guessing Game!\n",
    "I'm guessing a number from 1 to 100\n",
    "- if your guess number is less than 1 or greater than 100, it will show \"OUT OF BOUNDS\"\n",
    "- For first turn, if your guess number is within 10 of my number, it will show \"WARM!\"\n",
    "- For first turn, if your guess number is further than 10 away from my number, it will show \"COLD!\"\n",
    "- if your guess number is closer to the number than the previous guess, it will show \"WARMER!\"\n",
    "- if your guess number is farther from the number than the previous guess, it will show \"COLDER!\"\n",
    "When your guess number is equals to my number, it will show \"Guessed correctly\" and How many guesses it took!\n",
    "\"\"\")"
   ]
  },
  {
   "cell_type": "markdown",
   "metadata": {},
   "source": [
    "#### Create a list to store guesses\n",
    "\n",
    "Hint: zero is a good placeholder value. It's useful because it evaluates to \"False\""
   ]
  },
  {
   "cell_type": "code",
   "execution_count": 109,
   "metadata": {},
   "outputs": [],
   "source": [
    "guesses = [0]"
   ]
  },
  {
   "cell_type": "markdown",
   "metadata": {},
   "source": [
    "#### Write a `while` loop that asks for a valid guess. Test it a few times to make sure it works."
   ]
  },
  {
   "cell_type": "code",
   "execution_count": 110,
   "metadata": {},
   "outputs": [
    {
     "name": "stdout",
     "output_type": "stream",
     "text": [
      "Welcome to Guessing Game!\n",
      "What is your guess number between 1 and 100?200\n",
      "OUT OF BOUNDS, please guess again\n",
      "Welcome to Guessing Game!\n",
      "What is your guess number between 1 and 100?50\n"
     ]
    }
   ],
   "source": [
    "while True:\n",
    "    g = int(input(\"\"\"Welcome to Guessing Game!\\nWhat is your guess number between 1 and 100?\"\"\"))\n",
    "    if g < 1 or g > 100:\n",
    "        print(\"OUT OF BOUNDS, please guess again\")\n",
    "        continue\n",
    "    break"
   ]
  },
  {
   "cell_type": "markdown",
   "metadata": {},
   "source": [
    "#### Compares the player's guess to our number. If the player guesses correctly, break from the loop. Otherwise, tell the player if they're warmer or colder, and continue asking for guesses.\n"
   ]
  },
  {
   "cell_type": "code",
   "execution_count": 111,
   "metadata": {},
   "outputs": [
    {
     "name": "stdout",
     "output_type": "stream",
     "text": [
      "73\n",
      "Welcome to Guessing Game!\n",
      "What is your guess number between 1 and 100?80\n",
      "WARM!\n",
      "Welcome to Guessing Game!\n",
      "What is your guess number between 1 and 100?90\n",
      "COLDER!\n",
      "Welcome to Guessing Game!\n",
      "What is your guess number between 1 and 100?65\n",
      "WARMER!\n",
      "Welcome to Guessing Game!\n",
      "What is your guess number between 1 and 100?85\n",
      "COLDER!\n",
      "Welcome to Guessing Game!\n",
      "What is your guess number between 1 and 100?70\n",
      "WARMER!\n",
      "Welcome to Guessing Game!\n",
      "What is your guess number between 1 and 100?73\n",
      "Guessed correctly, it's only 6 times\n"
     ]
    }
   ],
   "source": [
    "print (r) # check for ending a loop\n",
    "\n",
    "while True:\n",
    "    # we can copy the code from above to take an input\n",
    "    g = int(input(\"\"\"Welcome to Guessing Game!\\nWhat is your guess number between 1 and 100?\"\"\"))\n",
    "    #print(guesses)\n",
    "    \n",
    "    if g < 1 or g > 100:\n",
    "        print(\"OUT OF BOUNDS, please guess again\")\n",
    "        continue\n",
    "    if g == r:\n",
    "        print(\"Guessed correctly, it's only \" + str(len(guesses)) + \" times\")\n",
    "        break\n",
    "    guesses.append(g)\n",
    "    if guesses[-2]:\n",
    "        if abs(r-g) < abs(r-guesses[-2]):\n",
    "            print(\"WARMER!\")\n",
    "        else:\n",
    "            print(\"COLDER!\")\n",
    "            \n",
    "    else:\n",
    "        if abs(r-g) <= 10:\n",
    "            print(\"WARM!\")\n",
    "        else:\n",
    "            print(\"COLD!\")"
   ]
  }
 ],
 "metadata": {
  "kernelspec": {
   "display_name": "Python 3 (ipykernel)",
   "language": "python",
   "name": "python3"
  },
  "language_info": {
   "codemirror_mode": {
    "name": "ipython",
    "version": 3
   },
   "file_extension": ".py",
   "mimetype": "text/x-python",
   "name": "python",
   "nbconvert_exporter": "python",
   "pygments_lexer": "ipython3",
   "version": "3.8.8"
  }
 },
 "nbformat": 4,
 "nbformat_minor": 2
}
